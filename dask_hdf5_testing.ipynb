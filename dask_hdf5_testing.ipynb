{
 "cells": [
  {
   "cell_type": "code",
   "execution_count": 1,
   "metadata": {},
   "outputs": [],
   "source": [
    "import h5py as h5\n",
    "import dask.array as da\n",
    "import numpy as np\n",
    "\n",
    "def h5_writer(data, h5_path, chunks):\n",
    "    from h5py import File\n",
    "    from os.path import exists\n",
    "    from os import remove\n",
    "\n",
    "    if exists(h5_path):\n",
    "        remove(h5_path)\n",
    "\n",
    "    with File(h5_path, 'w') as f:\n",
    "        f.create_dataset('default', data=data, compression='gzip', chunks=chunks, shuffle=True)\n",
    "\n",
    "# chosen to match my raw data        \n",
    "dims = [2, 16, 1884, 1248]\n",
    "chunks = (1, 236, 156)\n",
    "fname_base = 't_{0:03d}.h5'\n",
    "\n",
    "# generate a sequence of hdf5 files with a repeated random dataset\n",
    "def generate_h5_files(dims):\n",
    "    data = np.random.randint(0, 10, dims).astype('int16')\n",
    "    for ind, val in enumerate(data):\n",
    "        h5_writer(val, fname_base.format(ind), chunks=chunks)\n",
    "        \n",
    "generate_h5_files(dims)\n",
    "\n",
    "# get h5 files\n",
    "dsets = [h5.File(fname_base.format(ind))['default'] for ind in range(dims[0])]\n",
    "\n",
    "# represent h5 files as dask array\n",
    "x = da.stack([da.from_array(d, chunks=chunks) for d in dsets])"
   ]
  },
  {
   "cell_type": "markdown",
   "metadata": {},
   "source": [
    "Load data from a single file: h5py"
   ]
  },
  {
   "cell_type": "code",
   "execution_count": 2,
   "metadata": {},
   "outputs": [
    {
     "name": "stdout",
     "output_type": "stream",
     "text": [
      "16.8 ms ± 28.2 µs per loop (mean ± std. dev. of 7 runs, 100 loops each)\n"
     ]
    }
   ],
   "source": [
    "%%timeit\n",
    "t = 0\n",
    "z = 0\n",
    "dsets[t][z]"
   ]
  },
  {
   "cell_type": "markdown",
   "metadata": {},
   "source": [
    "Load data from a single file: dask"
   ]
  },
  {
   "cell_type": "code",
   "execution_count": 3,
   "metadata": {},
   "outputs": [
    {
     "name": "stdout",
     "output_type": "stream",
     "text": [
      "165 ms ± 3.98 ms per loop (mean ± std. dev. of 7 runs, 10 loops each)\n"
     ]
    }
   ],
   "source": [
    "%%timeit\n",
    "t = 0\n",
    "z = 0\n",
    "x[t,z].compute()"
   ]
  },
  {
   "cell_type": "markdown",
   "metadata": {},
   "source": [
    "Load data from multiple files: looped h5py"
   ]
  },
  {
   "cell_type": "code",
   "execution_count": 4,
   "metadata": {},
   "outputs": [
    {
     "name": "stdout",
     "output_type": "stream",
     "text": [
      "34 ms ± 150 µs per loop (mean ± std. dev. of 7 runs, 10 loops each)\n"
     ]
    }
   ],
   "source": [
    "%%timeit\n",
    "t = [0,1]\n",
    "z = 0\n",
    "[dsets[t_][z] for t_ in t]"
   ]
  },
  {
   "cell_type": "markdown",
   "metadata": {},
   "source": [
    "Load data from multiple files: dask"
   ]
  },
  {
   "cell_type": "code",
   "execution_count": 5,
   "metadata": {},
   "outputs": [
    {
     "name": "stdout",
     "output_type": "stream",
     "text": [
      "305 ms ± 14.7 ms per loop (mean ± std. dev. of 7 runs, 1 loop each)\n"
     ]
    }
   ],
   "source": [
    "%%timeit\n",
    "t = slice(0, None)\n",
    "z = 0\n",
    "x[t,z].compute()"
   ]
  }
 ],
 "metadata": {
  "kernelspec": {
   "display_name": "Python 3",
   "language": "python",
   "name": "python3"
  },
  "language_info": {
   "codemirror_mode": {
    "name": "ipython",
    "version": 3
   },
   "file_extension": ".py",
   "mimetype": "text/x-python",
   "name": "python",
   "nbconvert_exporter": "python",
   "pygments_lexer": "ipython3",
   "version": "3.5.4"
  }
 },
 "nbformat": 4,
 "nbformat_minor": 2
}
